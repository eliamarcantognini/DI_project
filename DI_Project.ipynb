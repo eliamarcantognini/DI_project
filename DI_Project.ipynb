{
 "cells": [
  {
   "cell_type": "markdown",
   "metadata": {},
   "source": [
    "# Progetto preliminare all'esame orale - Data Intensive Application\n",
    "\n",
    "_Elia Marcantognini matr. 826126_"
   ]
  },
  {
   "cell_type": "markdown",
   "metadata": {},
   "source": [
    "## Setup\n",
    "\n",
    "- Importo i package necessari"
   ]
  },
  {
   "cell_type": "code",
   "execution_count": 1,
   "metadata": {},
   "outputs": [],
   "source": [
    "import numpy as np\n",
    "import pandas as pd\n",
    "import matplotlib.pyplot as plt\n",
    "import seaborn as sns\n",
    "import sklearn\n",
    "import os.path\n",
    "from sklearn.model_selection import train_test_split, KFold, cross_validate, GridSearchCV\n",
    "from sklearn.metrics import mean_squared_error, r2_score\n",
    "from sklearn.linear_model import LinearRegression, Ridge, Lasso, ElasticNet\n",
    "from sklearn.preprocessing import StandardScaler, PolynomialFeatures\n",
    "from sklearn.kernel_ridge import KernelRidge\n",
    "from sklearn.pipeline import Pipeline\n",
    "%matplotlib inline"
   ]
  },
  {
   "cell_type": "markdown",
   "metadata": {},
   "source": [
    "## Descrizione del problema\n",
    "- Si vuole estrarre un modello di conoscenza utile a capire e predire il costo dell'assicurazione medica personale negli Stati Uniti D'America.\n",
    "- L'obiettivo del progetto è quello di predire una variabile continua, conoscendo le sue features.\n",
    "- Si fa riferimento a un dataset di pubblico dominio utilizzato come esempio nel libro\n",
    "    - Machine Learning with R di **Brett Lantz**\n",
    "- Il dataset è disponibile https://github.com/stedy/Machine-Learning-with-R-datasets/blob/master/insurance.csv"
   ]
  },
  {
   "cell_type": "markdown",
   "metadata": {},
   "source": [
    "## Recupero dei dati"
   ]
  },
  {
   "cell_type": "code",
   "execution_count": 2,
   "metadata": {},
   "outputs": [],
   "source": [
    "if not os.path.exists(\"insurance.csv\"):\n",
    "    from urllib.request import urlretrieve\n",
    "    urlretrieve(\"https://raw.githubusercontent.com/stedy/Machine-Learning-with-R-datasets/master/insurance.csv\",\n",
    "                \"insurance.csv\")"
   ]
  },
  {
   "cell_type": "code",
   "execution_count": 3,
   "metadata": {},
   "outputs": [],
   "source": [
    "insurance = pd.read_csv(\"insurance.csv\")"
   ]
  },
  {
   "cell_type": "markdown",
   "metadata": {},
   "source": [
    "## Esplorazione dei dati"
   ]
  },
  {
   "cell_type": "code",
   "execution_count": 4,
   "metadata": {},
   "outputs": [
    {
     "data": {
      "text/plain": [
       "(1338, 7)"
      ]
     },
     "execution_count": 4,
     "metadata": {},
     "output_type": "execute_result"
    }
   ],
   "source": [
    "insurance.shape"
   ]
  },
  {
   "cell_type": "code",
   "execution_count": 5,
   "metadata": {},
   "outputs": [
    {
     "data": {
      "text/html": [
       "<div>\n",
       "<style scoped>\n",
       "    .dataframe tbody tr th:only-of-type {\n",
       "        vertical-align: middle;\n",
       "    }\n",
       "\n",
       "    .dataframe tbody tr th {\n",
       "        vertical-align: top;\n",
       "    }\n",
       "\n",
       "    .dataframe thead th {\n",
       "        text-align: right;\n",
       "    }\n",
       "</style>\n",
       "<table border=\"1\" class=\"dataframe\">\n",
       "  <thead>\n",
       "    <tr style=\"text-align: right;\">\n",
       "      <th></th>\n",
       "      <th>age</th>\n",
       "      <th>sex</th>\n",
       "      <th>bmi</th>\n",
       "      <th>children</th>\n",
       "      <th>smoker</th>\n",
       "      <th>region</th>\n",
       "      <th>charges</th>\n",
       "    </tr>\n",
       "  </thead>\n",
       "  <tbody>\n",
       "    <tr>\n",
       "      <td>0</td>\n",
       "      <td>19</td>\n",
       "      <td>female</td>\n",
       "      <td>27.90</td>\n",
       "      <td>0</td>\n",
       "      <td>yes</td>\n",
       "      <td>southwest</td>\n",
       "      <td>16884.9240</td>\n",
       "    </tr>\n",
       "    <tr>\n",
       "      <td>1</td>\n",
       "      <td>18</td>\n",
       "      <td>male</td>\n",
       "      <td>33.77</td>\n",
       "      <td>1</td>\n",
       "      <td>no</td>\n",
       "      <td>southeast</td>\n",
       "      <td>1725.5523</td>\n",
       "    </tr>\n",
       "    <tr>\n",
       "      <td>2</td>\n",
       "      <td>28</td>\n",
       "      <td>male</td>\n",
       "      <td>33.00</td>\n",
       "      <td>3</td>\n",
       "      <td>no</td>\n",
       "      <td>southeast</td>\n",
       "      <td>4449.4620</td>\n",
       "    </tr>\n",
       "    <tr>\n",
       "      <td>1335</td>\n",
       "      <td>18</td>\n",
       "      <td>female</td>\n",
       "      <td>36.85</td>\n",
       "      <td>0</td>\n",
       "      <td>no</td>\n",
       "      <td>southeast</td>\n",
       "      <td>1629.8335</td>\n",
       "    </tr>\n",
       "    <tr>\n",
       "      <td>1336</td>\n",
       "      <td>21</td>\n",
       "      <td>female</td>\n",
       "      <td>25.80</td>\n",
       "      <td>0</td>\n",
       "      <td>no</td>\n",
       "      <td>southwest</td>\n",
       "      <td>2007.9450</td>\n",
       "    </tr>\n",
       "    <tr>\n",
       "      <td>1337</td>\n",
       "      <td>61</td>\n",
       "      <td>female</td>\n",
       "      <td>29.07</td>\n",
       "      <td>0</td>\n",
       "      <td>yes</td>\n",
       "      <td>northwest</td>\n",
       "      <td>29141.3603</td>\n",
       "    </tr>\n",
       "  </tbody>\n",
       "</table>\n",
       "</div>"
      ],
      "text/plain": [
       "      age     sex    bmi  children smoker     region     charges\n",
       "0      19  female  27.90         0    yes  southwest  16884.9240\n",
       "1      18    male  33.77         1     no  southeast   1725.5523\n",
       "2      28    male  33.00         3     no  southeast   4449.4620\n",
       "1335   18  female  36.85         0     no  southeast   1629.8335\n",
       "1336   21  female  25.80         0     no  southwest   2007.9450\n",
       "1337   61  female  29.07         0    yes  northwest  29141.3603"
      ]
     },
     "execution_count": 5,
     "metadata": {},
     "output_type": "execute_result"
    }
   ],
   "source": [
    "insurance.head(3).append(insurance.tail(3))"
   ]
  },
  {
   "cell_type": "code",
   "execution_count": 6,
   "metadata": {},
   "outputs": [
    {
     "data": {
      "text/html": [
       "<div>\n",
       "<style scoped>\n",
       "    .dataframe tbody tr th:only-of-type {\n",
       "        vertical-align: middle;\n",
       "    }\n",
       "\n",
       "    .dataframe tbody tr th {\n",
       "        vertical-align: top;\n",
       "    }\n",
       "\n",
       "    .dataframe thead th {\n",
       "        text-align: right;\n",
       "    }\n",
       "</style>\n",
       "<table border=\"1\" class=\"dataframe\">\n",
       "  <thead>\n",
       "    <tr style=\"text-align: right;\">\n",
       "      <th></th>\n",
       "      <th>age</th>\n",
       "      <th>bmi</th>\n",
       "      <th>children</th>\n",
       "      <th>charges</th>\n",
       "    </tr>\n",
       "  </thead>\n",
       "  <tbody>\n",
       "    <tr>\n",
       "      <td>count</td>\n",
       "      <td>1338.000000</td>\n",
       "      <td>1338.000000</td>\n",
       "      <td>1338.000000</td>\n",
       "      <td>1338.000000</td>\n",
       "    </tr>\n",
       "    <tr>\n",
       "      <td>mean</td>\n",
       "      <td>39.207025</td>\n",
       "      <td>30.663397</td>\n",
       "      <td>1.094918</td>\n",
       "      <td>13270.422265</td>\n",
       "    </tr>\n",
       "    <tr>\n",
       "      <td>std</td>\n",
       "      <td>14.049960</td>\n",
       "      <td>6.098187</td>\n",
       "      <td>1.205493</td>\n",
       "      <td>12110.011237</td>\n",
       "    </tr>\n",
       "    <tr>\n",
       "      <td>min</td>\n",
       "      <td>18.000000</td>\n",
       "      <td>15.960000</td>\n",
       "      <td>0.000000</td>\n",
       "      <td>1121.873900</td>\n",
       "    </tr>\n",
       "    <tr>\n",
       "      <td>25%</td>\n",
       "      <td>27.000000</td>\n",
       "      <td>26.296250</td>\n",
       "      <td>0.000000</td>\n",
       "      <td>4740.287150</td>\n",
       "    </tr>\n",
       "    <tr>\n",
       "      <td>50%</td>\n",
       "      <td>39.000000</td>\n",
       "      <td>30.400000</td>\n",
       "      <td>1.000000</td>\n",
       "      <td>9382.033000</td>\n",
       "    </tr>\n",
       "    <tr>\n",
       "      <td>75%</td>\n",
       "      <td>51.000000</td>\n",
       "      <td>34.693750</td>\n",
       "      <td>2.000000</td>\n",
       "      <td>16639.912515</td>\n",
       "    </tr>\n",
       "    <tr>\n",
       "      <td>max</td>\n",
       "      <td>64.000000</td>\n",
       "      <td>53.130000</td>\n",
       "      <td>5.000000</td>\n",
       "      <td>63770.428010</td>\n",
       "    </tr>\n",
       "  </tbody>\n",
       "</table>\n",
       "</div>"
      ],
      "text/plain": [
       "               age          bmi     children       charges\n",
       "count  1338.000000  1338.000000  1338.000000   1338.000000\n",
       "mean     39.207025    30.663397     1.094918  13270.422265\n",
       "std      14.049960     6.098187     1.205493  12110.011237\n",
       "min      18.000000    15.960000     0.000000   1121.873900\n",
       "25%      27.000000    26.296250     0.000000   4740.287150\n",
       "50%      39.000000    30.400000     1.000000   9382.033000\n",
       "75%      51.000000    34.693750     2.000000  16639.912515\n",
       "max      64.000000    53.130000     5.000000  63770.428010"
      ]
     },
     "execution_count": 6,
     "metadata": {},
     "output_type": "execute_result"
    }
   ],
   "source": [
    "insurance.describe()"
   ]
  },
  {
   "cell_type": "code",
   "execution_count": 7,
   "metadata": {},
   "outputs": [
    {
     "data": {
      "text/plain": [
       "age         0\n",
       "sex         0\n",
       "bmi         0\n",
       "children    0\n",
       "smoker      0\n",
       "region      0\n",
       "charges     0\n",
       "dtype: int64"
      ]
     },
     "execution_count": 7,
     "metadata": {},
     "output_type": "execute_result"
    }
   ],
   "source": [
    "# controllo la presenza di dati NaN\n",
    "insurance.isnull().sum()"
   ]
  },
  {
   "cell_type": "markdown",
   "metadata": {},
   "source": [
    "### Lista delle variabili\n",
    "- `AGE`: età del contraente;\n",
    "- `SEX`: genere del contraente;\n",
    "- `BMI`: indice di massa corporea, utile per capire la fisicità del contraente;\n",
    "- `CHILDREN`: numero di figli del contraente;\n",
    "- `SMOKER`: indica se il contraente fuma, variabile binaria [yes, no];\n",
    "- `REGION`: indica la regione di residenza del contraente.\n",
    "- **`CHARGES`**: costo dell'assicurazione medica individuale\n",
    "    - Lo scopo dell'analisi sarà quello di trovare un modello in grado di predire questa variabile in funzione delle altre."
   ]
  },
  {
   "cell_type": "markdown",
   "metadata": {},
   "source": [
    "Le features presenti sono di tipo categorico, continuo o discreto.\n",
    "- Le categoriche sono: `sex`, `smoker` e `region`\n",
    "- Le continue sono: `age` e `bmi`\n",
    "- La discreta è: `children`"
   ]
  },
  {
   "cell_type": "markdown",
   "metadata": {},
   "source": [
    "### Conversione dati categorici"
   ]
  },
  {
   "cell_type": "code",
   "execution_count": 8,
   "metadata": {},
   "outputs": [],
   "source": [
    "insurance_data = insurance"
   ]
  },
  {
   "cell_type": "markdown",
   "metadata": {},
   "source": [
    "**Per utilità, creiamo una nuova instanza del dataset in cui convertiamo:**\n",
    "- La colonna `sex`: 0 per 'female', 1 per 'male'\n",
    "- La colonna `smoker`: 0 per 'no', 1 per 'yes'\n",
    "- La colonna `region`: quattro colonne binarie, una per ogni regione"
   ]
  },
  {
   "cell_type": "code",
   "execution_count": 9,
   "metadata": {},
   "outputs": [
    {
     "data": {
      "text/html": [
       "<div>\n",
       "<style scoped>\n",
       "    .dataframe tbody tr th:only-of-type {\n",
       "        vertical-align: middle;\n",
       "    }\n",
       "\n",
       "    .dataframe tbody tr th {\n",
       "        vertical-align: top;\n",
       "    }\n",
       "\n",
       "    .dataframe thead th {\n",
       "        text-align: right;\n",
       "    }\n",
       "</style>\n",
       "<table border=\"1\" class=\"dataframe\">\n",
       "  <thead>\n",
       "    <tr style=\"text-align: right;\">\n",
       "      <th></th>\n",
       "      <th>age</th>\n",
       "      <th>sex</th>\n",
       "      <th>bmi</th>\n",
       "      <th>children</th>\n",
       "      <th>smoker</th>\n",
       "      <th>charges</th>\n",
       "      <th>region_northeast</th>\n",
       "      <th>region_northwest</th>\n",
       "      <th>region_southeast</th>\n",
       "      <th>region_southwest</th>\n",
       "    </tr>\n",
       "  </thead>\n",
       "  <tbody>\n",
       "    <tr>\n",
       "      <td>0</td>\n",
       "      <td>19</td>\n",
       "      <td>0</td>\n",
       "      <td>27.900</td>\n",
       "      <td>0</td>\n",
       "      <td>1</td>\n",
       "      <td>16884.92400</td>\n",
       "      <td>0</td>\n",
       "      <td>0</td>\n",
       "      <td>0</td>\n",
       "      <td>1</td>\n",
       "    </tr>\n",
       "    <tr>\n",
       "      <td>1</td>\n",
       "      <td>18</td>\n",
       "      <td>1</td>\n",
       "      <td>33.770</td>\n",
       "      <td>1</td>\n",
       "      <td>0</td>\n",
       "      <td>1725.55230</td>\n",
       "      <td>0</td>\n",
       "      <td>0</td>\n",
       "      <td>1</td>\n",
       "      <td>0</td>\n",
       "    </tr>\n",
       "    <tr>\n",
       "      <td>2</td>\n",
       "      <td>28</td>\n",
       "      <td>1</td>\n",
       "      <td>33.000</td>\n",
       "      <td>3</td>\n",
       "      <td>0</td>\n",
       "      <td>4449.46200</td>\n",
       "      <td>0</td>\n",
       "      <td>0</td>\n",
       "      <td>1</td>\n",
       "      <td>0</td>\n",
       "    </tr>\n",
       "    <tr>\n",
       "      <td>3</td>\n",
       "      <td>33</td>\n",
       "      <td>1</td>\n",
       "      <td>22.705</td>\n",
       "      <td>0</td>\n",
       "      <td>0</td>\n",
       "      <td>21984.47061</td>\n",
       "      <td>0</td>\n",
       "      <td>1</td>\n",
       "      <td>0</td>\n",
       "      <td>0</td>\n",
       "    </tr>\n",
       "    <tr>\n",
       "      <td>4</td>\n",
       "      <td>32</td>\n",
       "      <td>1</td>\n",
       "      <td>28.880</td>\n",
       "      <td>0</td>\n",
       "      <td>0</td>\n",
       "      <td>3866.85520</td>\n",
       "      <td>0</td>\n",
       "      <td>1</td>\n",
       "      <td>0</td>\n",
       "      <td>0</td>\n",
       "    </tr>\n",
       "  </tbody>\n",
       "</table>\n",
       "</div>"
      ],
      "text/plain": [
       "   age  sex     bmi  children  smoker      charges  region_northeast  \\\n",
       "0   19    0  27.900         0       1  16884.92400                 0   \n",
       "1   18    1  33.770         1       0   1725.55230                 0   \n",
       "2   28    1  33.000         3       0   4449.46200                 0   \n",
       "3   33    1  22.705         0       0  21984.47061                 0   \n",
       "4   32    1  28.880         0       0   3866.85520                 0   \n",
       "\n",
       "   region_northwest  region_southeast  region_southwest  \n",
       "0                 0                 0                 1  \n",
       "1                 0                 1                 0  \n",
       "2                 0                 1                 0  \n",
       "3                 1                 0                 0  \n",
       "4                 1                 0                 0  "
      ]
     },
     "execution_count": 9,
     "metadata": {},
     "output_type": "execute_result"
    }
   ],
   "source": [
    "# sex\n",
    "insurance_data['sex'] = insurance_data['sex'].map({'female':0, 'male':1})\n",
    "# smoker\n",
    "insurance_data['smoker'] = insurance_data['smoker'].map({'no':0, 'yes':1})\n",
    "# region\n",
    "insurance_data = pd.get_dummies(insurance_data, 'region')\n",
    "# output\n",
    "insurance_data.head(5)"
   ]
  },
  {
   "cell_type": "markdown",
   "metadata": {},
   "source": [
    "### Variabili categoriche"
   ]
  },
  {
   "cell_type": "markdown",
   "metadata": {},
   "source": [
    "- Prendiamo in esame la feature `sex`"
   ]
  },
  {
   "cell_type": "code",
   "execution_count": 10,
   "metadata": {
    "scrolled": false
   },
   "outputs": [
    {
     "data": {
      "text/plain": [
       "1    676\n",
       "0    662\n",
       "Name: sex, dtype: int64"
      ]
     },
     "execution_count": 10,
     "metadata": {},
     "output_type": "execute_result"
    },
    {
     "data": {
      "image/png": "[encoded data removed]",
      "text/plain": [
       "<Figure size 1080x720 with 2 Axes>"
      ]
     },
     "metadata": {
      "needs_background": "light"
     },
     "output_type": "display_data"
    },
    {
     "data": {
      "image/png": "[encoded data removed]",
      "text/plain": [
       "<Figure size 1080x432 with 2 Axes>"
      ]
     },
     "metadata": {
      "needs_background": "light"
     },
     "output_type": "display_data"
    }
   ],
   "source": [
    "plt.figure(figsize=(15, 10))\n",
    "# Distribuzione dei sessi\n",
    "plt.subplot(2, 2, 1)\n",
    "plt.title('Sesso')\n",
    "plt.pie(insurance.sex.value_counts(), autopct='%1.1f%%', labels=['Uomo','Donna']);\n",
    "plt.subplot(2, 2, 2)\n",
    "plt.title('Sesso')\n",
    "plt.ylabel('N Persone')\n",
    "plt.hist(insurance.sex);\n",
    "# Grafici di distribuzione\n",
    "man = insurance.loc[insurance_data.sex == 1]\n",
    "woman = insurance.loc[insurance_data.sex == 0]\n",
    "plt.figure(figsize=(15,6))\n",
    "sns.distplot(man['charges'], ax=plt.subplot(2,2,3)).set_title(label='Uomini')\n",
    "sns.distplot(woman['charges'], ax=plt.subplot(2,2,4)).set_title(label='Donne');\n",
    "insurance.sex.value_counts()"
   ]
  },
  {
   "cell_type": "markdown",
   "metadata": {},
   "source": [
    "- Uomini e donne sono praticamente in egual numero all'interno del dataset\n",
    "- Si può notare che i costi non sono strettamente correlati al sesso, controlliamo calcolando il coefficiente di correlazione di Pearson"
   ]
  },
  {
   "cell_type": "code",
   "execution_count": 11,
   "metadata": {},
   "outputs": [],
   "source": [
    "# funzione che calcola il coefficiente di correlazione di Pearson\n",
    "def correlation(a, b):\n",
    "    return np.mean((a-a.mean()) * (b-b.mean())) / (a.std() * b.std())"
   ]
  },
  {
   "cell_type": "code",
   "execution_count": 12,
   "metadata": {},
   "outputs": [
    {
     "data": {
      "text/plain": [
       "0.057249243022502776"
      ]
     },
     "execution_count": 12,
     "metadata": {},
     "output_type": "execute_result"
    }
   ],
   "source": [
    "correlation(insurance_data.sex, insurance.charges)"
   ]
  },
  {
   "cell_type": "markdown",
   "metadata": {},
   "source": [
    "- Effettivamente il coefficiente di correlazione è prossimo allo 0, indicando quindi assenza di correlazione"
   ]
  },
  {
   "cell_type": "markdown",
   "metadata": {},
   "source": [
    "- Prendiamo ora in esame la feature `smoker`"
   ]
  },
  {
   "cell_type": "code",
   "execution_count": 13,
   "metadata": {},
   "outputs": [
    {
     "data": {
      "text/plain": [
       "0    1064\n",
       "1     274\n",
       "Name: smoker, dtype: int64"
      ]
     },
     "execution_count": 13,
     "metadata": {},
     "output_type": "execute_result"
    },
    {
     "data": {
      "image/png": "[encoded data removed]",
      "text/plain": [
       "<Figure size 1080x720 with 2 Axes>"
      ]
     },
     "metadata": {
      "needs_background": "light"
     },
     "output_type": "display_data"
    },
    {
     "data": {
      "image/png": "[encoded data removed]",
      "text/plain": [
       "<Figure size 1080x432 with 2 Axes>"
      ]
     },
     "metadata": {
      "needs_background": "light"
     },
     "output_type": "display_data"
    }
   ],
   "source": [
    "plt.figure(figsize=(15, 10))\n",
    "# Distribuzione dei fumatori\n",
    "plt.subplot(2, 2, 1)\n",
    "plt.title('Fumatore')\n",
    "plt.pie(insurance.smoker.value_counts(), autopct='%1.1f%%', labels=['Sì','No']);\n",
    "\n",
    "plt.subplot(2, 2, 2)\n",
    "plt.title('Fumatore')\n",
    "plt.ylabel('N Persone')\n",
    "plt.hist(insurance.smoker)\n",
    "\n",
    "smoke = insurance_data.loc[insurance_data.smoker == 1]\n",
    "not_smoke = insurance_data.loc[insurance_data.smoker == 0]\n",
    "plt.figure(figsize=(15,6))\n",
    "sns.distplot(smoke['charges'], ax=plt.subplot(2,2,3)).set_title(label='Fumatore')\n",
    "sns.distplot(not_smoke['charges'], ax=plt.subplot(2,2,4)).set_title(label='Non fumatore');\n",
    "insurance.smoker.value_counts()\n"
   ]
  },
  {
   "cell_type": "markdown",
   "metadata": {},
   "source": [
    "- Nel dataset sono presenti molti più persone fumatrici che non\n",
    "- Per quanto riguarda la feature `smoker`, sembra esserci una forte correlazione fra l'aumento del costo e un paziente fumatore."
   ]
  },
  {
   "cell_type": "code",
   "execution_count": 14,
   "metadata": {},
   "outputs": [
    {
     "data": {
      "text/plain": [
       "0.7866630512529551"
      ]
     },
     "execution_count": 14,
     "metadata": {},
     "output_type": "execute_result"
    }
   ],
   "source": [
    "correlation(insurance_data.smoker, insurance_data.charges)"
   ]
  },
  {
   "cell_type": "markdown",
   "metadata": {},
   "source": [
    "- Effettivamente è risultato un coefficiente prossimo all'1, indicando quindi una correlazione abbastanza forte"
   ]
  },
  {
   "cell_type": "markdown",
   "metadata": {},
   "source": [
    "- Prendiamo ora in esame la feature `region`"
   ]
  },
  {
   "cell_type": "code",
   "execution_count": 15,
   "metadata": {},
   "outputs": [
    {
     "data": {
      "text/plain": [
       "southeast    364\n",
       "northwest    325\n",
       "southwest    325\n",
       "northeast    324\n",
       "Name: region, dtype: int64"
      ]
     },
     "execution_count": 15,
     "metadata": {},
     "output_type": "execute_result"
    },
    {
     "data": {
      "image/png": "[encoded data removed]",
      "text/plain": [
       "<Figure size 1080x720 with 2 Axes>"
      ]
     },
     "metadata": {
      "needs_background": "light"
     },
     "output_type": "display_data"
    },
    {
     "data": {
      "image/png": "[encoded data removed]",
      "text/plain": [
       "<Figure size 1080x1080 with 4 Axes>"
      ]
     },
     "metadata": {
      "needs_background": "light"
     },
     "output_type": "display_data"
    }
   ],
   "source": [
    "plt.figure(figsize=(15, 10))\n",
    "# Distribuzione delle regioni\n",
    "plt.subplot(3, 2, 1)\n",
    "plt.title('Regione')\n",
    "plt.pie(insurance.region.value_counts(), autopct='%1.1f%%', labels=[ 'southeast', 'southwest', 'nordwest', 'nordeast']);\n",
    "plt.subplot(3, 2, 2)\n",
    "plt.title('Regione')\n",
    "plt.ylabel('N Persone')\n",
    "plt.hist(insurance.region)\n",
    "\n",
    "southwest = insurance.loc[insurance.region == 'southwest']\n",
    "northwest = insurance.loc[insurance.region == 'northwest']\n",
    "southeast = insurance.loc[insurance.region == 'southeast']\n",
    "northeast = insurance.loc[insurance.region == 'northeast']\n",
    "plt.figure(figsize=(15,15))\n",
    "sns.distplot(southwest['charges'], ax=plt.subplot(3,2,3)).set_title(label='Southwest')\n",
    "sns.distplot(northwest['charges'], ax=plt.subplot(3,2,4)).set_title(label='Northwest')\n",
    "sns.distplot(southeast['charges'], ax=plt.subplot(3,2,5)).set_title(label='Southeast')\n",
    "sns.distplot(northeast['charges'], ax=plt.subplot(3,2,6)).set_title(label='Northeast');\n",
    "insurance.region.value_counts()"
   ]
  },
  {
   "cell_type": "code",
   "execution_count": 16,
   "metadata": {},
   "outputs": [
    {
     "name": "stdout",
     "output_type": "stream",
     "text": [
      "Coefficiente di correlazione:\n",
      "Southwest -0.043178\n",
      "Northwest -0.039875\n",
      "Southeast 0.073926\n",
      "Northeast 0.006344\n"
     ]
    }
   ],
   "source": [
    "print(\"Coefficiente di correlazione:\")\n",
    "print(\"Southwest {:.5}\".format(correlation(insurance_data.region_southwest, insurance_data.charges)))\n",
    "print(\"Northwest {:.5}\".format(correlation(insurance_data.region_northwest, insurance_data.charges)))\n",
    "print(\"Southeast {:.5}\".format(correlation(insurance_data.region_southeast, insurance_data.charges)))\n",
    "print(\"Northeast {:.5}\".format(correlation(insurance_data.region_northeast, insurance_data.charges)))"
   ]
  },
  {
   "cell_type": "markdown",
   "metadata": {},
   "source": [
    "- Come si può intuire dai risultati, le singole regioni non sono strettamente legate all'aumento o alla diminuizione del costo"
   ]
  },
  {
   "cell_type": "markdown",
   "metadata": {},
   "source": [
    "Dallo studio delle variabili categoriche possiamo capire come solamente la feature `smoker` abbia un impatto importante nella determinazione della variabile `charges`.\n",
    "Passiamo ora alle variabili continue."
   ]
  },
  {
   "cell_type": "markdown",
   "metadata": {},
   "source": [
    "### Variabili continue"
   ]
  },
  {
   "cell_type": "markdown",
   "metadata": {},
   "source": [
    "##### Analisi della colonna `age`"
   ]
  },
  {
   "cell_type": "code",
   "execution_count": 17,
   "metadata": {},
   "outputs": [
    {
     "data": {
      "text/plain": [
       "18    69\n",
       "19    68\n",
       "Name: age, dtype: int64"
      ]
     },
     "execution_count": 17,
     "metadata": {},
     "output_type": "execute_result"
    },
    {
     "data": {
      "image/png": "[encoded data removed]",
      "text/plain": [
       "<Figure size 1080x432 with 2 Axes>"
      ]
     },
     "metadata": {
      "needs_background": "light"
     },
     "output_type": "display_data"
    }
   ],
   "source": [
    "plt.figure(figsize=(15, 6))\n",
    "\n",
    "plt.subplot(1,2,1)\n",
    "plt.hist(insurance_data.age, bins=47)\n",
    "plt.ylabel('N Persone')\n",
    "plt.xlabel('Età')\n",
    "\n",
    "plt.subplot(1,2,2)\n",
    "plt.ylabel('Età')\n",
    "plt.boxplot(insurance_data.age, notch=True)\n",
    "insurance_data.loc[insurance.age < 20].age.value_counts()"
   ]
  },
  {
   "cell_type": "markdown",
   "metadata": {},
   "source": [
    "- Come si può notare dal grafico, si ha una distribuzione dell'età equa delle sottoscrizioni dell'assicurazione medica\n",
    "- Fatta eccezione per i contraenti con 18 e 19 anni"
   ]
  },
  {
   "cell_type": "code",
   "execution_count": 18,
   "metadata": {},
   "outputs": [
    {
     "data": {
      "image/png": "[encoded data removed]",
      "text/plain": [
       "<Figure size 432x288 with 1 Axes>"
      ]
     },
     "metadata": {
      "needs_background": "light"
     },
     "output_type": "display_data"
    }
   ],
   "source": [
    "middle_age = np.round(insurance.age.mean()) # 39.207025 --> 39\n",
    "sns.distplot(insurance.loc[insurance.age <= middle_age ]['charges'])\n",
    "sns.distplot(insurance.loc[insurance.age > middle_age]['charges'])\n",
    "plt.legend(['younger', 'older']);"
   ]
  },
  {
   "cell_type": "markdown",
   "metadata": {},
   "source": [
    "- Una maggiore età sicuramente influenza il minimo della nostra variabile obiettivo, ma non la influenza globalmente.\n",
    "- Ci aspettiamo un coefficiente di correlazione superiore allo 0 ma non molto alto"
   ]
  },
  {
   "cell_type": "code",
   "execution_count": 19,
   "metadata": {},
   "outputs": [
    {
     "data": {
      "text/plain": [
       "0.29878471934460105"
      ]
     },
     "execution_count": 19,
     "metadata": {},
     "output_type": "execute_result"
    }
   ],
   "source": [
    "correlation(insurance.age, insurance.charges)"
   ]
  },
  {
   "cell_type": "markdown",
   "metadata": {},
   "source": [
    "##### Analisi della colonna `bmi`\n",
    "- L'indice di massa corporea è rappresentativo della fisicità ($\\frac{Altezza}{peso^2}$) di una persona"
   ]
  },
  {
   "cell_type": "code",
   "execution_count": 20,
   "metadata": {},
   "outputs": [
    {
     "data": {
      "image/png": "[encoded data removed]",
      "text/plain": [
       "<Figure size 432x288 with 1 Axes>"
      ]
     },
     "metadata": {
      "needs_background": "light"
     },
     "output_type": "display_data"
    }
   ],
   "source": [
    "sns.distplot(insurance.bmi);"
   ]
  },
  {
   "cell_type": "markdown",
   "metadata": {},
   "source": [
    "- La maggioranza delle persone prese in esame ha un BMI superiore a `24.9`, indice massimo del normopeso\n",
    "- La media è 30, indice di obesità"
   ]
  },
  {
   "cell_type": "code",
   "execution_count": 21,
   "metadata": {},
   "outputs": [
    {
     "data": {
      "image/png": "[encoded data removed]",
      "text/plain": [
       "<Figure size 432x288 with 1 Axes>"
      ]
     },
     "metadata": {
      "needs_background": "light"
     },
     "output_type": "display_data"
    }
   ],
   "source": [
    "insurance_data.plot.scatter('bmi', 'charges');"
   ]
  },
  {
   "cell_type": "markdown",
   "metadata": {},
   "source": [
    "- Si può già notare come un BMI superiore al normopeso possa essere indice di un aumento del costo dell'assicurazione\n",
    "- Andiamo a studiare nel dettaglio il costo per chi è entro il normopeso e per chi non lo è"
   ]
  },
  {
   "cell_type": "code",
   "execution_count": 22,
   "metadata": {},
   "outputs": [
    {
     "data": {
      "image/png": "[encoded data removed]",
      "text/plain": [
       "<Figure size 432x288 with 1 Axes>"
      ]
     },
     "metadata": {
      "needs_background": "light"
     },
     "output_type": "display_data"
    }
   ],
   "source": [
    "healthy = insurance.loc[insurance.bmi < 30]\n",
    "overweight = insurance.loc[insurance.bmi >= 30]\n",
    "\n",
    "sns.distplot(healthy['charges'])\n",
    "sns.distplot(overweight['charges'])\n",
    "plt.legend(['healthy', 'overweight']);"
   ]
  },
  {
   "cell_type": "markdown",
   "metadata": {},
   "source": [
    "- I pazienti con un BMI superiore a 30 hanno un costo maggiore, come da aspettativa"
   ]
  },
  {
   "cell_type": "code",
   "execution_count": 23,
   "metadata": {},
   "outputs": [
    {
     "data": {
      "text/plain": [
       "0.19819273193614506"
      ]
     },
     "execution_count": 23,
     "metadata": {},
     "output_type": "execute_result"
    }
   ],
   "source": [
    "correlation(insurance.bmi, insurance.charges)"
   ]
  },
  {
   "cell_type": "markdown",
   "metadata": {},
   "source": [
    "### Variabili discrete"
   ]
  },
  {
   "cell_type": "markdown",
   "metadata": {},
   "source": [
    "##### Analisi della colonna `children`"
   ]
  },
  {
   "cell_type": "code",
   "execution_count": 24,
   "metadata": {},
   "outputs": [
    {
     "data": {
      "text/plain": [
       "0    574\n",
       "1    324\n",
       "2    240\n",
       "3    157\n",
       "4     25\n",
       "5     18\n",
       "Name: children, dtype: int64"
      ]
     },
     "execution_count": 24,
     "metadata": {},
     "output_type": "execute_result"
    },
    {
     "data": {
      "image/png": "[encoded data removed]",
      "text/plain": [
       "<Figure size 432x288 with 1 Axes>"
      ]
     },
     "metadata": {},
     "output_type": "display_data"
    }
   ],
   "source": [
    "insurance['children'].value_counts().plot.pie(autopct='%1.1f%%');\n",
    "insurance['children'].value_counts()"
   ]
  },
  {
   "cell_type": "markdown",
   "metadata": {},
   "source": [
    "- La maggiorparte dei soggetti non ha figli (42.9%)\n",
    "- Una minima parte dei soggetti ha fra i 3 e i 5 figli (<15%)"
   ]
  },
  {
   "cell_type": "code",
   "execution_count": 25,
   "metadata": {},
   "outputs": [
    {
     "data": {
      "image/png": "[encoded data removed]",
      "text/plain": [
       "<Figure size 864x432 with 1 Axes>"
      ]
     },
     "metadata": {
      "needs_background": "light"
     },
     "output_type": "display_data"
    }
   ],
   "source": [
    "plt.figure(figsize=(12, 6))\n",
    "no_children = insurance.loc[insurance.children == 0]\n",
    "few_children = insurance.loc[(insurance.children > 0) & (insurance.children < 3)]\n",
    "lot_children = insurance.loc[insurance.children >= 3]\n",
    "sns.distplot(no_children['charges'])\n",
    "sns.distplot(few_children['charges'])\n",
    "sns.distplot(lot_children['charges'])\n",
    "plt.legend(['no', 'few', 'lot']);"
   ]
  },
  {
   "cell_type": "markdown",
   "metadata": {},
   "source": [
    "- Il numero di figli non sembra far aumentare i costi direttamente, piuttosto un aumento molto leggero del minimo valore della nostra variabile obiettivo\n",
    "- Di conseguenza, ci aspettiamo un coefficiente di correlazione prossimo allo 0 e minore rispetto a quello calcolato sull'età"
   ]
  },
  {
   "cell_type": "code",
   "execution_count": 26,
   "metadata": {},
   "outputs": [
    {
     "data": {
      "text/plain": [
       "0.0679474060505599"
      ]
     },
     "execution_count": 26,
     "metadata": {},
     "output_type": "execute_result"
    }
   ],
   "source": [
    "correlation(insurance.children, insurance.charges)"
   ]
  },
  {
   "cell_type": "code",
   "execution_count": null,
   "metadata": {},
   "outputs": [],
   "source": []
  },
  {
   "cell_type": "code",
   "execution_count": null,
   "metadata": {},
   "outputs": [],
   "source": []
  },
  {
   "cell_type": "code",
   "execution_count": null,
   "metadata": {},
   "outputs": [],
   "source": []
  },
  {
   "cell_type": "code",
   "execution_count": null,
   "metadata": {},
   "outputs": [],
   "source": []
  },
  {
   "cell_type": "markdown",
   "metadata": {},
   "source": [
    "## Preparazione dei dati"
   ]
  },
  {
   "cell_type": "markdown",
   "metadata": {},
   "source": [
    "- Estraiamo dal nostro dataset\n",
    "    - La Series `y` contenente i valori della colonna `charges` da predire\n",
    "    - Il DataFrame `X` con i valori di tutte le altre colonne, utili per la predizione"
   ]
  },
  {
   "cell_type": "code",
   "execution_count": 27,
   "metadata": {},
   "outputs": [],
   "source": [
    "y = insurance_data['charges']\n",
    "X = insurance_data.drop(columns='charges')"
   ]
  },
  {
   "cell_type": "code",
   "execution_count": 28,
   "metadata": {},
   "outputs": [
    {
     "data": {
      "text/plain": [
       "0    16884.92400\n",
       "1     1725.55230\n",
       "2     4449.46200\n",
       "3    21984.47061\n",
       "4     3866.85520\n",
       "Name: charges, dtype: float64"
      ]
     },
     "execution_count": 28,
     "metadata": {},
     "output_type": "execute_result"
    }
   ],
   "source": [
    "y.head(5)"
   ]
  },
  {
   "cell_type": "code",
   "execution_count": 29,
   "metadata": {},
   "outputs": [
    {
     "data": {
      "text/html": [
       "<div>\n",
       "<style scoped>\n",
       "    .dataframe tbody tr th:only-of-type {\n",
       "        vertical-align: middle;\n",
       "    }\n",
       "\n",
       "    .dataframe tbody tr th {\n",
       "        vertical-align: top;\n",
       "    }\n",
       "\n",
       "    .dataframe thead th {\n",
       "        text-align: right;\n",
       "    }\n",
       "</style>\n",
       "<table border=\"1\" class=\"dataframe\">\n",
       "  <thead>\n",
       "    <tr style=\"text-align: right;\">\n",
       "      <th></th>\n",
       "      <th>age</th>\n",
       "      <th>sex</th>\n",
       "      <th>bmi</th>\n",
       "      <th>children</th>\n",
       "      <th>smoker</th>\n",
       "      <th>region_northeast</th>\n",
       "      <th>region_northwest</th>\n",
       "      <th>region_southeast</th>\n",
       "      <th>region_southwest</th>\n",
       "    </tr>\n",
       "  </thead>\n",
       "  <tbody>\n",
       "    <tr>\n",
       "      <td>0</td>\n",
       "      <td>19</td>\n",
       "      <td>0</td>\n",
       "      <td>27.90</td>\n",
       "      <td>0</td>\n",
       "      <td>1</td>\n",
       "      <td>0</td>\n",
       "      <td>0</td>\n",
       "      <td>0</td>\n",
       "      <td>1</td>\n",
       "    </tr>\n",
       "    <tr>\n",
       "      <td>1</td>\n",
       "      <td>18</td>\n",
       "      <td>1</td>\n",
       "      <td>33.77</td>\n",
       "      <td>1</td>\n",
       "      <td>0</td>\n",
       "      <td>0</td>\n",
       "      <td>0</td>\n",
       "      <td>1</td>\n",
       "      <td>0</td>\n",
       "    </tr>\n",
       "    <tr>\n",
       "      <td>2</td>\n",
       "      <td>28</td>\n",
       "      <td>1</td>\n",
       "      <td>33.00</td>\n",
       "      <td>3</td>\n",
       "      <td>0</td>\n",
       "      <td>0</td>\n",
       "      <td>0</td>\n",
       "      <td>1</td>\n",
       "      <td>0</td>\n",
       "    </tr>\n",
       "    <tr>\n",
       "      <td>1335</td>\n",
       "      <td>18</td>\n",
       "      <td>0</td>\n",
       "      <td>36.85</td>\n",
       "      <td>0</td>\n",
       "      <td>0</td>\n",
       "      <td>0</td>\n",
       "      <td>0</td>\n",
       "      <td>1</td>\n",
       "      <td>0</td>\n",
       "    </tr>\n",
       "    <tr>\n",
       "      <td>1336</td>\n",
       "      <td>21</td>\n",
       "      <td>0</td>\n",
       "      <td>25.80</td>\n",
       "      <td>0</td>\n",
       "      <td>0</td>\n",
       "      <td>0</td>\n",
       "      <td>0</td>\n",
       "      <td>0</td>\n",
       "      <td>1</td>\n",
       "    </tr>\n",
       "    <tr>\n",
       "      <td>1337</td>\n",
       "      <td>61</td>\n",
       "      <td>0</td>\n",
       "      <td>29.07</td>\n",
       "      <td>0</td>\n",
       "      <td>1</td>\n",
       "      <td>0</td>\n",
       "      <td>1</td>\n",
       "      <td>0</td>\n",
       "      <td>0</td>\n",
       "    </tr>\n",
       "  </tbody>\n",
       "</table>\n",
       "</div>"
      ],
      "text/plain": [
       "      age  sex    bmi  children  smoker  region_northeast  region_northwest  \\\n",
       "0      19    0  27.90         0       1                 0                 0   \n",
       "1      18    1  33.77         1       0                 0                 0   \n",
       "2      28    1  33.00         3       0                 0                 0   \n",
       "1335   18    0  36.85         0       0                 0                 0   \n",
       "1336   21    0  25.80         0       0                 0                 0   \n",
       "1337   61    0  29.07         0       1                 0                 1   \n",
       "\n",
       "      region_southeast  region_southwest  \n",
       "0                    0                 1  \n",
       "1                    1                 0  \n",
       "2                    1                 0  \n",
       "1335                 1                 0  \n",
       "1336                 0                 1  \n",
       "1337                 0                 0  "
      ]
     },
     "execution_count": 29,
     "metadata": {},
     "output_type": "execute_result"
    }
   ],
   "source": [
    "X.head(3).append(X.tail(3))"
   ]
  },
  {
   "cell_type": "markdown",
   "metadata": {},
   "source": [
    "- Dividiamo il dataset in training e validation set attraverso il metodo _hold out_"
   ]
  },
  {
   "cell_type": "code",
   "execution_count": 30,
   "metadata": {},
   "outputs": [],
   "source": [
    "X_train, X_val, y_train, y_val = train_test_split(X, y, test_size=1/3, random_state=42)"
   ]
  },
  {
   "cell_type": "markdown",
   "metadata": {},
   "source": [
    "## Modelli"
   ]
  },
  {
   "cell_type": "markdown",
   "metadata": {},
   "source": [
    "- Partiamo alla ricerca del modello migliore partendo da un semplice modello lineare, proseguendo poi con i vari modelli"
   ]
  },
  {
   "cell_type": "code",
   "execution_count": 31,
   "metadata": {},
   "outputs": [
    {
     "data": {
      "text/plain": [
       "0.7650433625569815"
      ]
     },
     "execution_count": 31,
     "metadata": {},
     "output_type": "execute_result"
    }
   ],
   "source": [
    "model = LinearRegression()\n",
    "model.fit(X_train, y_train)\n",
    "model.score(X_val, y_val)"
   ]
  },
  {
   "cell_type": "code",
   "execution_count": 32,
   "metadata": {},
   "outputs": [
    {
     "data": {
      "text/plain": [
       "0.7650717650337552"
      ]
     },
     "execution_count": 32,
     "metadata": {},
     "output_type": "execute_result"
    }
   ],
   "source": [
    "lrm = Pipeline([\n",
    "    ('scaler', StandardScaler()),\n",
    "    ('reg', LinearRegression())\n",
    "])\n",
    "lrm.fit(X_train, y_train)\n",
    "lrm.score(X_val, y_val)"
   ]
  },
  {
   "cell_type": "code",
   "execution_count": 33,
   "metadata": {},
   "outputs": [
    {
     "data": {
      "text/plain": [
       "0.8544448416983839"
      ]
     },
     "execution_count": 33,
     "metadata": {},
     "output_type": "execute_result"
    }
   ],
   "source": [
    "plrm = Pipeline([\n",
    "    ('poly', PolynomialFeatures(degree=2, include_bias=False)),\n",
    "    ('scaler', StandardScaler()),\n",
    "    ('linreg', LinearRegression())\n",
    "])\n",
    "plrm.fit(X_train, y_train)\n",
    "plrm.score(X_val, y_val)"
   ]
  },
  {
   "cell_type": "code",
   "execution_count": 34,
   "metadata": {},
   "outputs": [
    {
     "data": {
      "text/plain": [
       "0.8537902012283942"
      ]
     },
     "execution_count": 34,
     "metadata": {},
     "output_type": "execute_result"
    }
   ],
   "source": [
    "model = KernelRidge(alpha=1, kernel='poly', degree=2)\n",
    "model.fit(X_train, y_train)\n",
    "model.score(X_val, y_val)"
   ]
  },
  {
   "cell_type": "markdown",
   "metadata": {},
   "source": [
    "- La scelta di utilizzare una regressione non lineare è quella con i risultati migliori\n",
    "- Ora testiamo, utilizzando la Grid Search e la K Fold Validation, il modello per cercare i paremetri migliori (se esistono)"
   ]
  },
  {
   "cell_type": "code",
   "execution_count": 35,
   "metadata": {},
   "outputs": [
    {
     "name": "stdout",
     "output_type": "stream",
     "text": [
      "{'regr__alpha': 1, 'regr__degree': 2}\n"
     ]
    },
    {
     "data": {
      "text/plain": [
       "0.8544791436845189"
      ]
     },
     "execution_count": 35,
     "metadata": {},
     "output_type": "execute_result"
    }
   ],
   "source": [
    "### KFOLD \n",
    "kf = KFold(5, shuffle=True, random_state=42)\n",
    "model = Pipeline([\n",
    "    ('scaler', StandardScaler()),\n",
    "    ('regr', KernelRidge(kernel='poly'))\n",
    "])\n",
    "grid = {\n",
    "    'regr__degree': range(1, 5),\n",
    "    'regr__alpha': [0.01, 0.1, 1, 10]\n",
    "}\n",
    "gs = GridSearchCV(model, grid, cv=kf)\n",
    "gs.fit(X_train, y_train)\n",
    "print(gs.best_params_)\n",
    "gs.score(X_val, y_val)"
   ]
  },
  {
   "cell_type": "markdown",
   "metadata": {},
   "source": [
    "- La grid search ci dà la conferma che il risultato migliore si ottiene con un alpha pari a 1 e grado polinomiale pari a 2"
   ]
  },
  {
   "cell_type": "code",
   "execution_count": 36,
   "metadata": {
    "scrolled": true
   },
   "outputs": [
    {
     "data": {
      "text/html": [
       "<div>\n",
       "<style scoped>\n",
       "    .dataframe tbody tr th:only-of-type {\n",
       "        vertical-align: middle;\n",
       "    }\n",
       "\n",
       "    .dataframe tbody tr th {\n",
       "        vertical-align: top;\n",
       "    }\n",
       "\n",
       "    .dataframe thead th {\n",
       "        text-align: right;\n",
       "    }\n",
       "</style>\n",
       "<table border=\"1\" class=\"dataframe\">\n",
       "  <thead>\n",
       "    <tr style=\"text-align: right;\">\n",
       "      <th></th>\n",
       "      <th>mean_fit_time</th>\n",
       "      <th>std_fit_time</th>\n",
       "      <th>mean_score_time</th>\n",
       "      <th>std_score_time</th>\n",
       "      <th>param_regr__alpha</th>\n",
       "      <th>param_regr__degree</th>\n",
       "      <th>params</th>\n",
       "      <th>split0_test_score</th>\n",
       "      <th>split1_test_score</th>\n",
       "      <th>split2_test_score</th>\n",
       "      <th>split3_test_score</th>\n",
       "      <th>split4_test_score</th>\n",
       "      <th>mean_test_score</th>\n",
       "      <th>std_test_score</th>\n",
       "      <th>rank_test_score</th>\n",
       "    </tr>\n",
       "  </thead>\n",
       "  <tbody>\n",
       "    <tr>\n",
       "      <td>9</td>\n",
       "      <td>0.015558</td>\n",
       "      <td>0.001017</td>\n",
       "      <td>0.001995</td>\n",
       "      <td>2.431402e-07</td>\n",
       "      <td>1</td>\n",
       "      <td>2</td>\n",
       "      <td>{'regr__alpha': 1, 'regr__degree': 2}</td>\n",
       "      <td>0.884446</td>\n",
       "      <td>0.788276</td>\n",
       "      <td>0.842273</td>\n",
       "      <td>0.866187</td>\n",
       "      <td>0.772676</td>\n",
       "      <td>0.830784</td>\n",
       "      <td>0.043482</td>\n",
       "      <td>1</td>\n",
       "    </tr>\n",
       "    <tr>\n",
       "      <td>5</td>\n",
       "      <td>0.015359</td>\n",
       "      <td>0.000798</td>\n",
       "      <td>0.001795</td>\n",
       "      <td>3.990653e-04</td>\n",
       "      <td>0.1</td>\n",
       "      <td>2</td>\n",
       "      <td>{'regr__alpha': 0.1, 'regr__degree': 2}</td>\n",
       "      <td>0.884956</td>\n",
       "      <td>0.786829</td>\n",
       "      <td>0.843127</td>\n",
       "      <td>0.866233</td>\n",
       "      <td>0.772126</td>\n",
       "      <td>0.830666</td>\n",
       "      <td>0.044095</td>\n",
       "      <td>2</td>\n",
       "    </tr>\n",
       "    <tr>\n",
       "      <td>1</td>\n",
       "      <td>0.015160</td>\n",
       "      <td>0.001595</td>\n",
       "      <td>0.001795</td>\n",
       "      <td>3.990415e-04</td>\n",
       "      <td>0.01</td>\n",
       "      <td>2</td>\n",
       "      <td>{'regr__alpha': 0.01, 'regr__degree': 2}</td>\n",
       "      <td>0.884970</td>\n",
       "      <td>0.786624</td>\n",
       "      <td>0.843177</td>\n",
       "      <td>0.866197</td>\n",
       "      <td>0.772025</td>\n",
       "      <td>0.830611</td>\n",
       "      <td>0.044163</td>\n",
       "      <td>3</td>\n",
       "    </tr>\n",
       "    <tr>\n",
       "      <td>14</td>\n",
       "      <td>0.030420</td>\n",
       "      <td>0.000891</td>\n",
       "      <td>0.006383</td>\n",
       "      <td>7.977247e-04</td>\n",
       "      <td>10</td>\n",
       "      <td>3</td>\n",
       "      <td>{'regr__alpha': 10, 'regr__degree': 3}</td>\n",
       "      <td>0.880217</td>\n",
       "      <td>0.783428</td>\n",
       "      <td>0.836512</td>\n",
       "      <td>0.860185</td>\n",
       "      <td>0.770915</td>\n",
       "      <td>0.826264</td>\n",
       "      <td>0.042594</td>\n",
       "      <td>4</td>\n",
       "    </tr>\n",
       "    <tr>\n",
       "      <td>15</td>\n",
       "      <td>0.032617</td>\n",
       "      <td>0.001535</td>\n",
       "      <td>0.005784</td>\n",
       "      <td>9.771163e-04</td>\n",
       "      <td>10</td>\n",
       "      <td>4</td>\n",
       "      <td>{'regr__alpha': 10, 'regr__degree': 4}</td>\n",
       "      <td>0.880606</td>\n",
       "      <td>0.773912</td>\n",
       "      <td>0.841587</td>\n",
       "      <td>0.858034</td>\n",
       "      <td>0.770029</td>\n",
       "      <td>0.824839</td>\n",
       "      <td>0.044943</td>\n",
       "      <td>5</td>\n",
       "    </tr>\n",
       "    <tr>\n",
       "      <td>10</td>\n",
       "      <td>0.032114</td>\n",
       "      <td>0.001596</td>\n",
       "      <td>0.006085</td>\n",
       "      <td>7.971618e-04</td>\n",
       "      <td>1</td>\n",
       "      <td>3</td>\n",
       "      <td>{'regr__alpha': 1, 'regr__degree': 3}</td>\n",
       "      <td>0.878054</td>\n",
       "      <td>0.768949</td>\n",
       "      <td>0.843547</td>\n",
       "      <td>0.851873</td>\n",
       "      <td>0.764761</td>\n",
       "      <td>0.821441</td>\n",
       "      <td>0.046038</td>\n",
       "      <td>6</td>\n",
       "    </tr>\n",
       "    <tr>\n",
       "      <td>13</td>\n",
       "      <td>0.014162</td>\n",
       "      <td>0.000977</td>\n",
       "      <td>0.001995</td>\n",
       "      <td>2.336015e-07</td>\n",
       "      <td>10</td>\n",
       "      <td>2</td>\n",
       "      <td>{'regr__alpha': 10, 'regr__degree': 2}</td>\n",
       "      <td>0.867637</td>\n",
       "      <td>0.779725</td>\n",
       "      <td>0.823558</td>\n",
       "      <td>0.851177</td>\n",
       "      <td>0.762791</td>\n",
       "      <td>0.816993</td>\n",
       "      <td>0.040267</td>\n",
       "      <td>7</td>\n",
       "    </tr>\n",
       "    <tr>\n",
       "      <td>6</td>\n",
       "      <td>0.033314</td>\n",
       "      <td>0.000733</td>\n",
       "      <td>0.006183</td>\n",
       "      <td>9.769510e-04</td>\n",
       "      <td>0.1</td>\n",
       "      <td>3</td>\n",
       "      <td>{'regr__alpha': 0.1, 'regr__degree': 3}</td>\n",
       "      <td>0.869220</td>\n",
       "      <td>0.756458</td>\n",
       "      <td>0.837826</td>\n",
       "      <td>0.841302</td>\n",
       "      <td>0.759351</td>\n",
       "      <td>0.812832</td>\n",
       "      <td>0.046184</td>\n",
       "      <td>8</td>\n",
       "    </tr>\n",
       "    <tr>\n",
       "      <td>2</td>\n",
       "      <td>0.033212</td>\n",
       "      <td>0.002516</td>\n",
       "      <td>0.006183</td>\n",
       "      <td>7.460853e-04</td>\n",
       "      <td>0.01</td>\n",
       "      <td>3</td>\n",
       "      <td>{'regr__alpha': 0.01, 'regr__degree': 3}</td>\n",
       "      <td>0.867388</td>\n",
       "      <td>0.753680</td>\n",
       "      <td>0.836205</td>\n",
       "      <td>0.839323</td>\n",
       "      <td>0.758365</td>\n",
       "      <td>0.810991</td>\n",
       "      <td>0.046228</td>\n",
       "      <td>9</td>\n",
       "    </tr>\n",
       "    <tr>\n",
       "      <td>11</td>\n",
       "      <td>0.032513</td>\n",
       "      <td>0.002054</td>\n",
       "      <td>0.006085</td>\n",
       "      <td>9.145652e-04</td>\n",
       "      <td>1</td>\n",
       "      <td>4</td>\n",
       "      <td>{'regr__alpha': 1, 'regr__degree': 4}</td>\n",
       "      <td>0.848473</td>\n",
       "      <td>0.744987</td>\n",
       "      <td>0.838033</td>\n",
       "      <td>0.840308</td>\n",
       "      <td>0.755980</td>\n",
       "      <td>0.805536</td>\n",
       "      <td>0.045252</td>\n",
       "      <td>10</td>\n",
       "    </tr>\n",
       "    <tr>\n",
       "      <td>7</td>\n",
       "      <td>0.034809</td>\n",
       "      <td>0.002007</td>\n",
       "      <td>0.005885</td>\n",
       "      <td>6.613076e-04</td>\n",
       "      <td>0.1</td>\n",
       "      <td>4</td>\n",
       "      <td>{'regr__alpha': 0.1, 'regr__degree': 4}</td>\n",
       "      <td>0.741115</td>\n",
       "      <td>0.685815</td>\n",
       "      <td>0.802046</td>\n",
       "      <td>0.784856</td>\n",
       "      <td>0.709825</td>\n",
       "      <td>0.744661</td>\n",
       "      <td>0.043808</td>\n",
       "      <td>11</td>\n",
       "    </tr>\n",
       "    <tr>\n",
       "      <td>4</td>\n",
       "      <td>0.015755</td>\n",
       "      <td>0.000741</td>\n",
       "      <td>0.001500</td>\n",
       "      <td>4.460994e-04</td>\n",
       "      <td>0.1</td>\n",
       "      <td>1</td>\n",
       "      <td>{'regr__alpha': 0.1, 'regr__degree': 1}</td>\n",
       "      <td>0.794312</td>\n",
       "      <td>0.702776</td>\n",
       "      <td>0.755358</td>\n",
       "      <td>0.759970</td>\n",
       "      <td>0.686825</td>\n",
       "      <td>0.739868</td>\n",
       "      <td>0.039508</td>\n",
       "      <td>12</td>\n",
       "    </tr>\n",
       "    <tr>\n",
       "      <td>0</td>\n",
       "      <td>0.016059</td>\n",
       "      <td>0.001738</td>\n",
       "      <td>0.001995</td>\n",
       "      <td>1.784161e-07</td>\n",
       "      <td>0.01</td>\n",
       "      <td>1</td>\n",
       "      <td>{'regr__alpha': 0.01, 'regr__degree': 1}</td>\n",
       "      <td>0.794365</td>\n",
       "      <td>0.702779</td>\n",
       "      <td>0.755400</td>\n",
       "      <td>0.759895</td>\n",
       "      <td>0.686781</td>\n",
       "      <td>0.739864</td>\n",
       "      <td>0.039529</td>\n",
       "      <td>13</td>\n",
       "    </tr>\n",
       "    <tr>\n",
       "      <td>8</td>\n",
       "      <td>0.015261</td>\n",
       "      <td>0.000400</td>\n",
       "      <td>0.001595</td>\n",
       "      <td>4.882469e-04</td>\n",
       "      <td>1</td>\n",
       "      <td>1</td>\n",
       "      <td>{'regr__alpha': 1, 'regr__degree': 1}</td>\n",
       "      <td>0.793684</td>\n",
       "      <td>0.702629</td>\n",
       "      <td>0.754826</td>\n",
       "      <td>0.760587</td>\n",
       "      <td>0.687146</td>\n",
       "      <td>0.739793</td>\n",
       "      <td>0.039299</td>\n",
       "      <td>14</td>\n",
       "    </tr>\n",
       "    <tr>\n",
       "      <td>12</td>\n",
       "      <td>0.014861</td>\n",
       "      <td>0.000916</td>\n",
       "      <td>0.001596</td>\n",
       "      <td>4.885582e-04</td>\n",
       "      <td>10</td>\n",
       "      <td>1</td>\n",
       "      <td>{'regr__alpha': 10, 'regr__degree': 1}</td>\n",
       "      <td>0.779493</td>\n",
       "      <td>0.692596</td>\n",
       "      <td>0.741048</td>\n",
       "      <td>0.756302</td>\n",
       "      <td>0.680986</td>\n",
       "      <td>0.730098</td>\n",
       "      <td>0.037605</td>\n",
       "      <td>15</td>\n",
       "    </tr>\n",
       "    <tr>\n",
       "      <td>3</td>\n",
       "      <td>0.033412</td>\n",
       "      <td>0.001894</td>\n",
       "      <td>0.006184</td>\n",
       "      <td>9.770774e-04</td>\n",
       "      <td>0.01</td>\n",
       "      <td>4</td>\n",
       "      <td>{'regr__alpha': 0.01, 'regr__degree': 4}</td>\n",
       "      <td>0.633065</td>\n",
       "      <td>0.569633</td>\n",
       "      <td>0.743975</td>\n",
       "      <td>0.708733</td>\n",
       "      <td>0.663826</td>\n",
       "      <td>0.663706</td>\n",
       "      <td>0.060454</td>\n",
       "      <td>16</td>\n",
       "    </tr>\n",
       "  </tbody>\n",
       "</table>\n",
       "</div>"
      ],
      "text/plain": [
       "    mean_fit_time  std_fit_time  mean_score_time  std_score_time  \\\n",
       "9        0.015558      0.001017         0.001995    2.431402e-07   \n",
       "5        0.015359      0.000798         0.001795    3.990653e-04   \n",
       "1        0.015160      0.001595         0.001795    3.990415e-04   \n",
       "14       0.030420      0.000891         0.006383    7.977247e-04   \n",
       "15       0.032617      0.001535         0.005784    9.771163e-04   \n",
       "10       0.032114      0.001596         0.006085    7.971618e-04   \n",
       "13       0.014162      0.000977         0.001995    2.336015e-07   \n",
       "6        0.033314      0.000733         0.006183    9.769510e-04   \n",
       "2        0.033212      0.002516         0.006183    7.460853e-04   \n",
       "11       0.032513      0.002054         0.006085    9.145652e-04   \n",
       "7        0.034809      0.002007         0.005885    6.613076e-04   \n",
       "4        0.015755      0.000741         0.001500    4.460994e-04   \n",
       "0        0.016059      0.001738         0.001995    1.784161e-07   \n",
       "8        0.015261      0.000400         0.001595    4.882469e-04   \n",
       "12       0.014861      0.000916         0.001596    4.885582e-04   \n",
       "3        0.033412      0.001894         0.006184    9.770774e-04   \n",
       "\n",
       "   param_regr__alpha param_regr__degree  \\\n",
       "9                  1                  2   \n",
       "5                0.1                  2   \n",
       "1               0.01                  2   \n",
       "14                10                  3   \n",
       "15                10                  4   \n",
       "10                 1                  3   \n",
       "13                10                  2   \n",
       "6                0.1                  3   \n",
       "2               0.01                  3   \n",
       "11                 1                  4   \n",
       "7                0.1                  4   \n",
       "4                0.1                  1   \n",
       "0               0.01                  1   \n",
       "8                  1                  1   \n",
       "12                10                  1   \n",
       "3               0.01                  4   \n",
       "\n",
       "                                      params  split0_test_score  \\\n",
       "9      {'regr__alpha': 1, 'regr__degree': 2}           0.884446   \n",
       "5    {'regr__alpha': 0.1, 'regr__degree': 2}           0.884956   \n",
       "1   {'regr__alpha': 0.01, 'regr__degree': 2}           0.884970   \n",
       "14    {'regr__alpha': 10, 'regr__degree': 3}           0.880217   \n",
       "15    {'regr__alpha': 10, 'regr__degree': 4}           0.880606   \n",
       "10     {'regr__alpha': 1, 'regr__degree': 3}           0.878054   \n",
       "13    {'regr__alpha': 10, 'regr__degree': 2}           0.867637   \n",
       "6    {'regr__alpha': 0.1, 'regr__degree': 3}           0.869220   \n",
       "2   {'regr__alpha': 0.01, 'regr__degree': 3}           0.867388   \n",
       "11     {'regr__alpha': 1, 'regr__degree': 4}           0.848473   \n",
       "7    {'regr__alpha': 0.1, 'regr__degree': 4}           0.741115   \n",
       "4    {'regr__alpha': 0.1, 'regr__degree': 1}           0.794312   \n",
       "0   {'regr__alpha': 0.01, 'regr__degree': 1}           0.794365   \n",
       "8      {'regr__alpha': 1, 'regr__degree': 1}           0.793684   \n",
       "12    {'regr__alpha': 10, 'regr__degree': 1}           0.779493   \n",
       "3   {'regr__alpha': 0.01, 'regr__degree': 4}           0.633065   \n",
       "\n",
       "    split1_test_score  split2_test_score  split3_test_score  \\\n",
       "9            0.788276           0.842273           0.866187   \n",
       "5            0.786829           0.843127           0.866233   \n",
       "1            0.786624           0.843177           0.866197   \n",
       "14           0.783428           0.836512           0.860185   \n",
       "15           0.773912           0.841587           0.858034   \n",
       "10           0.768949           0.843547           0.851873   \n",
       "13           0.779725           0.823558           0.851177   \n",
       "6            0.756458           0.837826           0.841302   \n",
       "2            0.753680           0.836205           0.839323   \n",
       "11           0.744987           0.838033           0.840308   \n",
       "7            0.685815           0.802046           0.784856   \n",
       "4            0.702776           0.755358           0.759970   \n",
       "0            0.702779           0.755400           0.759895   \n",
       "8            0.702629           0.754826           0.760587   \n",
       "12           0.692596           0.741048           0.756302   \n",
       "3            0.569633           0.743975           0.708733   \n",
       "\n",
       "    split4_test_score  mean_test_score  std_test_score  rank_test_score  \n",
       "9            0.772676         0.830784        0.043482                1  \n",
       "5            0.772126         0.830666        0.044095                2  \n",
       "1            0.772025         0.830611        0.044163                3  \n",
       "14           0.770915         0.826264        0.042594                4  \n",
       "15           0.770029         0.824839        0.044943                5  \n",
       "10           0.764761         0.821441        0.046038                6  \n",
       "13           0.762791         0.816993        0.040267                7  \n",
       "6            0.759351         0.812832        0.046184                8  \n",
       "2            0.758365         0.810991        0.046228                9  \n",
       "11           0.755980         0.805536        0.045252               10  \n",
       "7            0.709825         0.744661        0.043808               11  \n",
       "4            0.686825         0.739868        0.039508               12  \n",
       "0            0.686781         0.739864        0.039529               13  \n",
       "8            0.687146         0.739793        0.039299               14  \n",
       "12           0.680986         0.730098        0.037605               15  \n",
       "3            0.663826         0.663706        0.060454               16  "
      ]
     },
     "execution_count": 36,
     "metadata": {},
     "output_type": "execute_result"
    }
   ],
   "source": [
    "pd.DataFrame(gs.cv_results_).sort_values(\"mean_test_score\", ascending=False)"
   ]
  },
  {
   "cell_type": "code",
   "execution_count": 37,
   "metadata": {},
   "outputs": [
    {
     "data": {
      "text/plain": [
       "0.8544448416983839"
      ]
     },
     "execution_count": 37,
     "metadata": {},
     "output_type": "execute_result"
    }
   ],
   "source": [
    "model = Pipeline([\n",
    "    ('poly', PolynomialFeatures(degree=2, include_bias=False)),\n",
    "    ('scaler', StandardScaler()),\n",
    "    ('linreg', LinearRegression())\n",
    "])\n",
    "model.fit(X_train, y_train)\n",
    "model.score(X_val, y_val)"
   ]
  },
  {
   "cell_type": "code",
   "execution_count": 38,
   "metadata": {},
   "outputs": [
    {
     "ename": "AttributeError",
     "evalue": "'Pipeline' object has no attribute 'coef_'",
     "output_type": "error",
     "traceback": [
      "\u001b[1;31m---------------------------------------------------------------------------\u001b[0m",
      "\u001b[1;31mAttributeError\u001b[0m                            Traceback (most recent call last)",
      "\u001b[1;32m<ipython-input-38-6bb7539855ab>\u001b[0m in \u001b[0;36m<module>\u001b[1;34m\u001b[0m\n\u001b[1;32m----> 1\u001b[1;33m \u001b[0mpd\u001b[0m\u001b[1;33m.\u001b[0m\u001b[0mSeries\u001b[0m\u001b[1;33m(\u001b[0m\u001b[0mmodel\u001b[0m\u001b[1;33m.\u001b[0m\u001b[0mcoef_\u001b[0m\u001b[1;33m,\u001b[0m \u001b[0mindex\u001b[0m\u001b[1;33m=\u001b[0m\u001b[0mX_train\u001b[0m\u001b[1;33m.\u001b[0m\u001b[0mcolumns\u001b[0m\u001b[1;33m)\u001b[0m\u001b[1;33m\u001b[0m\u001b[1;33m\u001b[0m\u001b[0m\n\u001b[0m",
      "\u001b[1;31mAttributeError\u001b[0m: 'Pipeline' object has no attribute 'coef_'"
     ]
    }
   ],
   "source": [
    "pd.Series(model.coef_, index=X_train.columns)"
   ]
  },
  {
   "cell_type": "code",
   "execution_count": null,
   "metadata": {},
   "outputs": [],
   "source": [
    "pd.Series(model.coef_, index=X_train.columns)"
   ]
  }
 ],
 "metadata": {
  "kernelspec": {
   "display_name": "Python 3",
   "language": "python",
   "name": "python3"
  },
  "language_info": {
   "codemirror_mode": {
    "name": "ipython",
    "version": 3
   },
   "file_extension": ".py",
   "mimetype": "text/x-python",
   "name": "python",
   "nbconvert_exporter": "python",
   "pygments_lexer": "ipython3",
   "version": "3.7.5"
  }
 },
 "nbformat": 4,
 "nbformat_minor": 2
}
